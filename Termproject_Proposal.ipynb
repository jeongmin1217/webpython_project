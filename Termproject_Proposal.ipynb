{
 "cells": [
  {
   "cell_type": "markdown",
   "metadata": {},
   "source": [
    "# <span style=\"color:#3E6BCE\">1) 주제</span>"
   ]
  },
  {
   "cell_type": "markdown",
   "metadata": {},
   "source": [
    "Web crawling과 random forest를 활용한 축구 경기 결과 예측 모델 제작"
   ]
  },
  {
   "cell_type": "markdown",
   "metadata": {},
   "source": [
    "# <span style=\"color:#3E6BCE\">2) 주제 선정 이유</span>"
   ]
  },
  {
   "cell_type": "markdown",
   "metadata": {},
   "source": [
    "이번 term project를 통해 데이터 분석의 대표적 기법인 web crawling을 활용해 프로젝트를 기획해보고자 하였습니다. 그리고 처음 도전하는 분야인만큼, 흥미를 갖고 진행할 수 있는 주제를 선정하는 것이 효율적일 것이라는 판단 하에, 평소 관심있는 분야인 축구와 관련된 주제를 고민하였습니다.<br><br>\n",
    "그 과정 중, 평상 시 친구들과 축구 경기를 보며 경기 예측을 할 때, 타당한 데이터가 없이 직감적으로 결과를 예측하던 상황이 떠올라, 만약 데이터가 준비된 경기 결과 예측 모델이 있다면 유용하고, 흥미로울 것 같다는 생각에 위와 같은 주제를 선정하게 되었습니다.<br>"
   ]
  },
  {
   "cell_type": "markdown",
   "metadata": {},
   "source": [
    "# <span style=\"color:#3E6BCE\">3) 프로젝트 정의 및 설명</span>"
   ]
  },
  {
   "cell_type": "markdown",
   "metadata": {},
   "source": [
    "### ● 프로젝트 정의\n",
    "이 프로젝트는 경기 결과 예측 성공률 60% 이상의 모델을 설계하는 것을 목표로 합니다. 그리고 프로젝트를 통해 축구 경기에서 해당 팀이 특정한 약점을 지닌 상대팀에게 득점할 확률을 계산해, 이 변수가 경기 결과 예측에 큰 영향을 미치는 요인인지 확인하고자 합니다. 또한 term-project를 계기로 web crawling 및 machine learning 기법 중 하나인 random forest에 대해 학습해, 추후 다양한 데이터 분석 프로젝트에 활용해 나가는 것이 개인적인 프로젝트의 목표입니다.\n",
    "\n",
    "### ● 프로젝트 설명\n",
    "1. **Web crawling**<br>\n",
    "Web crawling에 흔히 사용되는 파이썬 라이브러리인 selenium, beautifulsoup를 활용해 각 팀 별 weakness, 경기 결과 등의 데이터를 수집합니다. 또한 이 프로젝트는 세계에서 가장 인기가 많은 리그 중 하나인 English Premier League의 데이터를 대상으로 합니다.<br><br>\n",
    "2. **Random forest 기법을 통한 유의미한 데이터 출력**<br>\n",
    "먼저 한 구단이 승리했던 상대팀의 weakness 데이터들을 수집합니다. 이후 각 weakness 데이터 별 빈도수와 득점간의 연관간계를, random forest를 활용해 유의미한 weakness 요인들을 출력해 냅니다. 이렇게 나온 요인들은 해당 구단이 어떠한 weakness를 지닌 팀을 상대했을 때, 득점이 발생하는 것과 유의미한 관계를 지니는지 나타냅니다.<br><br>\n",
    "3. **출력된 데이터를 기반으로 경기 결과 예측**<br>\n",
    "해당 구단의 득점과 유의미한 관계를 지닌 weakness들을 특징으로 가진 상대 구단들과의 경기 결과를 crawling합니다. 각 weakness 별 득점 수의 확률을 각각 측정하여 weakness별 가장 확률이 높은 득점 수를 구하고 이를 총합해, weakness 요인의 수로 나눠줍니다. 이 데이터는 상대팀을 input했을 때, 상대팀의 weakness를 crawling한 자료를 토대로 해당 경기의 득점 수를 예측합니다.<br><br>\n",
    "4. **최종 스코어 예측**<br>\n",
    "English Premier League의 구단 수는 총 20개 구단으로, 각 구단별로 1~3의 작업들을 진행해, 기준이 되는 팀이 상대 팀을 맞이했을 때, 몇 득점을 하게 될 확률이 높은 지 판단하고, 상대 팀도 마찬가지의 과정을 거쳐 최종적인 스코어를 예측합니다.<br>\n",
    "\n",
    "### ● 프로젝트 가설\n",
    "가설 1. 경기 결과를 도출해내는 많은 변수들 중, 상대팀의 약점에 따른 해당팀의 득점 수만을 변수로 결과를 도출한다.<br>\n",
    "가설 2. 각 팀의 플레이 스타일은 특별한 경기가 아닌 일반적인 경기의 경우를 기준으로 한다.<br>\n",
    "가설 3. 축구 경기 결과의 값은 정수값이기에, 최종 결과 값은 소수 첫째 자리에서 반올림한다.<br>\n",
    "가설 4. 축구 경기에서 해당 팀이 특정한 약점을 지닌 상대팀에게 득점할 확률을 계산한 변수가 경기 결과 예측에 큰 영향을 미친다.<br>"
   ]
  },
  {
   "cell_type": "markdown",
   "metadata": {},
   "source": [
    "# <span style=\"color:#3E6BCE\">4) 프로젝트 계획</span>"
   ]
  },
  {
   "cell_type": "markdown",
   "metadata": {},
   "source": [
    "- **Web crawling**\n",
    "> 축구 경기의 세부 데이터는 <https://www.whoscored.com/>에서 crawling을 진행할 예정입니다. Web crawling 분석에서 흔히 사용되는 파이썬 라이브러리인 selenium을 통해 webdriver로 url을 호출하고, beautifulsoup로 페이지 파싱을 해 분석을 진행할 계획입니다. 또한 세부 데이터는 필요한 데이터가 부족할 시에 다른 웹 사이트도 함께 crawling해 진행할 수 있습니다.\n",
    "- **Random forest 기법 활용 및 경기 결과 도출**\n",
    "> 구단이 승리했던 상대팀의 weakness 데이터들을 수집한 후, 해당 팀의 득점을 target attribute로 설정해 득점과 유의미한 관계를 지녔던 weakness 요인을 random forest 기법을 통해 도출해 냅니다.<br><br>\n",
    "이후 출력된 weakness 요인들을 특징으로 지닌 상대팀과의 경기 결과들을 crawling해 각 weakness 요인마다 득점 수 별 확률을 측정합니다. 이 때, 축구 경기 특성 상 5득점 이상을 했을 경우, 경기 결과에 크게 영향을 미치지 않기에, 득점 수 별 확률은 1득점/2득점/3득점/4득점/5득점 이상으로 분류합니다.<br><br>\n",
    "각 weakness 별 득점 수를 총합해 weakness 요인 개수로 나누어 해당 팀과 시합 시 득점 수를 예측합니다. 위 과정에 따른 예시는 아래와 같습니다.\n",
    "![득점 수 예측 예시](https://raw.githubusercontent.com/jeongmin1217/kakao-clone-2021/gh-pages/%ED%85%80%ED%94%84%EB%A1%9C%EC%A0%9D%ED%8A%B8%20%EC%98%88%EC%8B%9C.png)<br><br>\n",
    "위의 예시와 같은 경우, 1득점을 할 요인이 1개, 2득점을 할 요인이 1개 있으므로 총 예상 득점 수는 1x1 + 2x1 = 3이고, 이를 요인의 수로 나누면 3/2 = 1.5로, 해당 팀은 경기에서 1.5득점을 할 것이 예상됩니다. 이것은 소숫점 첫째자리에서 반올림하여 해당 팀은 weakness A,B를 보유한 팀에게 2득점을 할 것이 예측된다고 할 수 있습니다.<br><br>\n",
    "마찬가지 방법으로 상대팀도 해당 팀에게 득점할 확률을 예상해 두 경우를 합하여 해당 경기의 최종적인 스코어를 예측합니다.<br>\n",
    "\n",
    "- **차후 추가적으로 진행할 수도 있는 사항**<br><br>\n",
    "축구 경기에는 이 프로젝트에서 중점적으로 삼은 변수인 상대팀의 약점에 따른 해당 팀의 득점 수 이외에도, input한 두 팀간의 상대 전적, 혹은 해당 팀의 최근 10경기 승부 결과 등 고려해야할 변수들이 다른 사항들도 다수 존재합니다. <br>만약, 상대팀의 약점에 따른 해당 팀의 득점 수를 통한 경기 결과 예측에 빠른 시일 내에 성공한다면, 상대 전적, 최근 경기 결과 등도 변수로 고려하여 각 요인별 가중치를 부여해 최종적인 경기 결과를 예측하는 모델 또한 제작해보고자 합니다."
   ]
  },
  {
   "cell_type": "code",
   "execution_count": null,
   "metadata": {},
   "outputs": [],
   "source": []
  }
 ],
 "metadata": {
  "kernelspec": {
   "display_name": "Python 3",
   "language": "python",
   "name": "python3"
  },
  "language_info": {
   "codemirror_mode": {
    "name": "ipython",
    "version": 3
   },
   "file_extension": ".py",
   "mimetype": "text/x-python",
   "name": "python",
   "nbconvert_exporter": "python",
   "pygments_lexer": "ipython3",
   "version": "3.8.5"
  }
 },
 "nbformat": 4,
 "nbformat_minor": 4
}
